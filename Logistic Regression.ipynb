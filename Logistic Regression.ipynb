{
 "cells": [
  {
   "cell_type": "code",
   "execution_count": 4,
   "id": "985e5184",
   "metadata": {},
   "outputs": [],
   "source": [
    "import pandas as pd\n",
    "import numpy as np\n",
    "from sklearn.model_selection import train_test_split\n",
    "from sklearn.linear_model import LogisticRegression\n",
    "from sklearn.metrics import confusion_matrix, accuracy_score, roc_auc_score, classification_report\n",
    "import statsmodels.api as sm\n",
    "import matplotlib.pyplot as plt\n",
    "from statsmodels.stats.outliers_influence import variance_inflation_factor"
   ]
  },
  {
   "cell_type": "code",
   "execution_count": 2,
   "id": "e5ce7868",
   "metadata": {},
   "outputs": [],
   "source": [
    "# Load Flier Response Data\n",
    "flierresponse = pd.read_csv(\"D:\\Academics\\BTech\\DSC4.51015_StatisticalModeling-1\\Session 06\\FlierResponse.csv\")\n",
    "\n",
    "# Convert Response column to factor\n",
    "flierresponse['Response'] = pd.factorize(flierresponse['Response'])[0]"
   ]
  },
  {
   "cell_type": "code",
   "execution_count": 9,
   "id": "99f9efd9",
   "metadata": {},
   "outputs": [
    {
     "name": "stdout",
     "output_type": "stream",
     "text": [
      "              Results: Generalized linear model\n",
      "==============================================================\n",
      "Model:              GLM              AIC:            53.9366  \n",
      "Link Function:      Logit            BIC:            -357.0243\n",
      "Dependent Variable: Response         Log-Likelihood: -24.968  \n",
      "Date:               2024-03-26 14:58 LL-Null:        -61.578  \n",
      "No. Observations:   92               Deviance:       49.937   \n",
      "Df Model:           1                Pearson chi2:   46.3     \n",
      "Df Residuals:       90               Scale:          1.0000   \n",
      "Method:             IRLS                                      \n",
      "---------------------------------------------------------------\n",
      "            Coef.   Std.Err.     z     P>|z|    [0.025   0.975]\n",
      "---------------------------------------------------------------\n",
      "const      20.4078    4.5233   4.5117  0.0000  11.5423  29.2734\n",
      "Age        -0.4259    0.0948  -4.4921  0.0000  -0.6118  -0.2401\n",
      "==============================================================\n",
      "\n"
     ]
    }
   ],
   "source": [
    "# Logistic Regression Model\n",
    "X = flierresponse[['Age']]\n",
    "y = flierresponse['Response']\n",
    "flierresponseglm = sm.GLM(y, sm.add_constant(X), family=sm.families.Binomial()).fit()\n",
    "print(flierresponseglm.summary2())"
   ]
  },
  {
   "cell_type": "code",
   "execution_count": 16,
   "id": "78f3cffb",
   "metadata": {},
   "outputs": [
    {
     "name": "stdout",
     "output_type": "stream",
     "text": [
      "Shape of nd_array: (1, 1)\n",
      "Shape of flierresponseglm.params: (2,)\n"
     ]
    }
   ],
   "source": [
    "# Predict probability for Age=50\n",
    "nd = pd.DataFrame({'Age': [50]})\n",
    "print(\"Shape of nd_array:\", nd_array.shape)\n",
    "print(\"Shape of flierresponseglm.params:\", flierresponseglm.params.shape)"
   ]
  },
  {
   "cell_type": "code",
   "execution_count": 18,
   "id": "ad4b20d5",
   "metadata": {},
   "outputs": [
    {
     "name": "stdout",
     "output_type": "stream",
     "text": [
      "[0.29152877]\n"
     ]
    }
   ],
   "source": [
    "# Construct the design matrix with a constant term manually\n",
    "nd_array = np.column_stack((np.ones_like(nd['Age']), nd['Age']))\n",
    "\n",
    "# Predict the response for the new data\n",
    "print(flierresponseglm.predict(nd_array))"
   ]
  },
  {
   "cell_type": "code",
   "execution_count": 20,
   "id": "65942c08",
   "metadata": {},
   "outputs": [
    {
     "name": "stdout",
     "output_type": "stream",
     "text": [
      "[0.29152877]\n"
     ]
    }
   ],
   "source": [
    "# Construct the design matrix with a constant term manually\n",
    "nd_array = np.column_stack((np.ones_like(nd['Age']), nd['Age']))\n",
    "\n",
    "# Predict the response for the new data with transform=False\n",
    "print(flierresponseglm.predict(nd_array, transform=False))"
   ]
  },
  {
   "cell_type": "code",
   "execution_count": 22,
   "id": "cb502efc",
   "metadata": {},
   "outputs": [
    {
     "name": "stdout",
     "output_type": "stream",
     "text": [
      "                 Generalized Linear Model Regression Results                  \n",
      "==============================================================================\n",
      "Dep. Variable:               Response   No. Observations:                   92\n",
      "Model:                            GLM   Df Residuals:                       90\n",
      "Model Family:                Binomial   Df Model:                            1\n",
      "Link Function:                  Logit   Scale:                          1.0000\n",
      "Method:                          IRLS   Log-Likelihood:                -24.968\n",
      "Date:                Tue, 26 Mar 2024   Deviance:                       49.937\n",
      "Time:                        21:02:50   Pearson chi2:                     46.3\n",
      "No. Iterations:                     7   Pseudo R-squ. (CS):             0.5488\n",
      "Covariance Type:            nonrobust                                         \n",
      "==============================================================================\n",
      "                 coef    std err          z      P>|z|      [0.025      0.975]\n",
      "------------------------------------------------------------------------------\n",
      "const         20.4078      4.523      4.512      0.000      11.542      29.273\n",
      "Age           -0.4259      0.095     -4.492      0.000      -0.612      -0.240\n",
      "==============================================================================\n"
     ]
    }
   ],
   "source": [
    "print(flierresponseglm.summary())"
   ]
  },
  {
   "cell_type": "code",
   "execution_count": 24,
   "id": "345b0a1e",
   "metadata": {},
   "outputs": [
    {
     "name": "stdout",
     "output_type": "stream",
     "text": [
      "-24.96831445537559\n"
     ]
    }
   ],
   "source": [
    "# Print log-likelihood of the model\n",
    "print(flierresponseglm.llf)"
   ]
  },
  {
   "cell_type": "code",
   "execution_count": 25,
   "id": "cd96a5a4",
   "metadata": {},
   "outputs": [
    {
     "name": "stdout",
     "output_type": "stream",
     "text": [
      "49.93662891075118\n",
      "53.93662891075118\n"
     ]
    }
   ],
   "source": [
    "print(flierresponseglm.deviance)\n",
    "print(flierresponseglm.aic)"
   ]
  },
  {
   "cell_type": "markdown",
   "id": "61be6eec",
   "metadata": {},
   "source": [
    "# Case Study: Framingham Heart Study"
   ]
  },
  {
   "cell_type": "code",
   "execution_count": 41,
   "id": "ed3c5925",
   "metadata": {},
   "outputs": [],
   "source": [
    "# Read the Framingham dataset\n",
    "framingham = pd.read_csv(r\"D:\\Academics\\BTech\\DSC4.51015_StatisticalModeling-1\\Session 06\\framingham.csv\")"
   ]
  },
  {
   "cell_type": "code",
   "execution_count": 45,
   "id": "2f2afc94",
   "metadata": {},
   "outputs": [
    {
     "name": "stdout",
     "output_type": "stream",
     "text": [
      "<class 'pandas.core.frame.DataFrame'>\n",
      "Index: 3658 entries, 0 to 4239\n",
      "Data columns (total 16 columns):\n",
      " #   Column           Non-Null Count  Dtype  \n",
      "---  ------           --------------  -----  \n",
      " 0   male             3658 non-null   int64  \n",
      " 1   age              3658 non-null   int64  \n",
      " 2   education        3658 non-null   float64\n",
      " 3   currentSmoker    3658 non-null   int64  \n",
      " 4   cigsPerDay       3658 non-null   float64\n",
      " 5   BPMeds           3658 non-null   float64\n",
      " 6   prevalentStroke  3658 non-null   int64  \n",
      " 7   prevalentHyp     3658 non-null   int64  \n",
      " 8   diabetes         3658 non-null   int64  \n",
      " 9   totChol          3658 non-null   float64\n",
      " 10  sysBP            3658 non-null   float64\n",
      " 11  diaBP            3658 non-null   float64\n",
      " 12  BMI              3658 non-null   float64\n",
      " 13  heartRate        3658 non-null   float64\n",
      " 14  glucose          3658 non-null   float64\n",
      " 15  TenYearCHD       3658 non-null   int64  \n",
      "dtypes: float64(9), int64(7)\n",
      "memory usage: 485.8 KB\n",
      "None\n"
     ]
    }
   ],
   "source": [
    "# Remove rows with missing values from the DataFrame\n",
    "framingham = framingham.dropna()\n",
    "\n",
    "print(framingham.info())"
   ]
  },
  {
   "cell_type": "code",
   "execution_count": 42,
   "id": "d5deec72",
   "metadata": {},
   "outputs": [],
   "source": [
    "# Randomly split the data into training and testing sets\n",
    "train, test = train_test_split(framingham, test_size=0.3, random_state=123)"
   ]
  },
  {
   "cell_type": "code",
   "execution_count": 43,
   "id": "5c43757c",
   "metadata": {},
   "outputs": [
    {
     "name": "stdout",
     "output_type": "stream",
     "text": [
      "Proportion of TenYearCHD in the training dataset: 0.147265625\n",
      "Proportion of TenYearCHD in the testing dataset: 0.16393442622950818\n"
     ]
    }
   ],
   "source": [
    "# Calculate the proportion of TenYearCHD in the training dataset\n",
    "train_proportion = train['TenYearCHD'].sum() / len(train)\n",
    "\n",
    "# Calculate the proportion of TenYearCHD in the testing dataset\n",
    "test_proportion = test['TenYearCHD'].sum() / len(test)\n",
    "\n",
    "print(\"Proportion of TenYearCHD in the training dataset:\", train_proportion)\n",
    "print(\"Proportion of TenYearCHD in the testing dataset:\", test_proportion)"
   ]
  },
  {
   "cell_type": "code",
   "execution_count": 44,
   "id": "a8df908b",
   "metadata": {},
   "outputs": [
    {
     "name": "stdout",
     "output_type": "stream",
     "text": [
      "                Results: Generalized linear model\n",
      "=================================================================\n",
      "Model:               GLM              AIC:            1919.4621  \n",
      "Link Function:       Logit            BIC:            -18077.2457\n",
      "Dependent Variable:  TenYearCHD       Log-Likelihood: -943.73    \n",
      "Date:                2024-03-27 11:35 LL-Null:        -1069.9    \n",
      "No. Observations:    2560             Deviance:       1887.5     \n",
      "Df Model:            15               Pearson chi2:   2.45e+03   \n",
      "Df Residuals:        2544             Scale:          1.0000     \n",
      "Method:              IRLS                                        \n",
      "-----------------------------------------------------------------\n",
      "                 Coef.  Std.Err.    z     P>|z|   [0.025   0.975]\n",
      "-----------------------------------------------------------------\n",
      "const           -8.9157   0.8674 -10.2782 0.0000 -10.6158 -7.2155\n",
      "male             0.5311   0.1324   4.0102 0.0001   0.2715  0.7907\n",
      "age              0.0649   0.0081   8.0364 0.0000   0.0490  0.0807\n",
      "education       -0.0716   0.0604  -1.1857 0.2357  -0.1899  0.0467\n",
      "currentSmoker    0.1411   0.1905   0.7411 0.4586  -0.2321  0.5144\n",
      "cigsPerDay       0.0212   0.0077   2.7441 0.0061   0.0061  0.0363\n",
      "BPMeds           0.2710   0.2872   0.9434 0.3455  -0.2920  0.8339\n",
      "prevalentStroke  0.8431   0.5448   1.5476 0.1217  -0.2246  1.9108\n",
      "prevalentHyp    -0.0460   0.1694  -0.2713 0.7861  -0.3780  0.2861\n",
      "diabetes        -0.0005   0.3976  -0.0013 0.9990  -0.7797  0.7787\n",
      "totChol          0.0034   0.0014   2.4237 0.0154   0.0006  0.0061\n",
      "sysBP            0.0175   0.0047   3.7571 0.0002   0.0084  0.0266\n",
      "diaBP           -0.0040   0.0078  -0.5083 0.6113  -0.0193  0.0114\n",
      "BMI              0.0136   0.0155   0.8793 0.3793  -0.0168  0.0440\n",
      "heartRate       -0.0041   0.0051  -0.8020 0.4226  -0.0142  0.0059\n",
      "glucose          0.0060   0.0026   2.2853 0.0223   0.0009  0.0112\n",
      "=================================================================\n",
      "\n"
     ]
    }
   ],
   "source": [
    "# Logistic Regression Model\n",
    "framingham1 = sm.GLM(train['TenYearCHD'], sm.add_constant(train.drop(columns=['TenYearCHD'])),\n",
    "                     family=sm.families.Binomial()).fit()\n",
    "print(framingham1.summary2())"
   ]
  },
  {
   "cell_type": "code",
   "execution_count": 46,
   "id": "6d671253",
   "metadata": {},
   "outputs": [
    {
     "name": "stdout",
     "output_type": "stream",
     "text": [
      "VIF:\n",
      "     Variable       VIF\n",
      "0         age  1.335089\n",
      "1   education  1.053133\n",
      "2  cigsPerDay  1.049092\n",
      "3     totChol  1.108764\n",
      "4       sysBP  3.126199\n",
      "5       diaBP  2.875258\n",
      "6         BMI  1.207163\n",
      "7   heartRate  1.065791\n",
      "8     glucose  1.038740\n"
     ]
    }
   ],
   "source": [
    "# Check for multicollinearity\n",
    "\n",
    "X = framingham.drop(columns=['TenYearCHD']+['male']+['currentSmoker']+['BPMeds']+\n",
    "                    ['prevalentStroke']+['prevalentHyp']+['diabetes'], axis=1)\n",
    "# Add a constant term for the intercept\n",
    "X_with_constant = sm.add_constant(X)\n",
    "# Calculate VIF (excluding the constant term)\n",
    "vif_data = pd.DataFrame()\n",
    "vif_data[\"Variable\"] = X.columns\n",
    "vif_data[\"VIF\"] = [variance_inflation_factor(X_with_constant.values, i) \n",
    "                   for i in range(1, X_with_constant.shape[1])]\n",
    "\n",
    "print(\"VIF:\")\n",
    "print(vif_data)"
   ]
  },
  {
   "cell_type": "code",
   "execution_count": 50,
   "id": "6a2e4e4d",
   "metadata": {},
   "outputs": [
    {
     "name": "stdout",
     "output_type": "stream",
     "text": [
      "Confusion Matrix_Train:\n",
      "[[2169   14]\n",
      " [ 346   31]]\n",
      "Accuracy_Train: 0.859375\n",
      "Confusion Matrix_Test:\n",
      "[[913   5]\n",
      " [166  14]]\n",
      "Accuracy_Test: 0.8442622950819673\n"
     ]
    }
   ],
   "source": [
    "# Accuracy on the training set\n",
    "predictTrain1 = framingham1.predict(sm.add_constant(train.drop(columns=['TenYearCHD'])))\n",
    "print(\"Confusion Matrix_Train:\")\n",
    "print(confusion_matrix(train['TenYearCHD'], predictTrain1 > 0.5))\n",
    "print(\"Accuracy_Train:\", accuracy_score(train['TenYearCHD'], predictTrain1 > 0.5))\n",
    "\n",
    "# Accuracy on Test Set\n",
    "predictTest1 = framingham1.predict(sm.add_constant(test.drop(columns=['TenYearCHD'])))\n",
    "print(\"Confusion Matrix_Test:\")\n",
    "print(confusion_matrix(test['TenYearCHD'], predictTest1 > 0.5))\n",
    "print(\"Accuracy_Test:\", accuracy_score(test['TenYearCHD'], predictTest1 > 0.5))"
   ]
  },
  {
   "cell_type": "code",
   "execution_count": 53,
   "id": "415076d2",
   "metadata": {},
   "outputs": [
    {
     "name": "stdout",
     "output_type": "stream",
     "text": [
      "Confusion Matrix:\n",
      "Predicted     0   1\n",
      "Actual             \n",
      "0          2169  14\n",
      "1           346  31\n"
     ]
    }
   ],
   "source": [
    "# Displaying confusion matrix with row and column labels\n",
    "\n",
    "threshold = 0.5  # Example threshold to be adjusted as needed\n",
    "predicted_labels = (predictTrain1 > threshold).astype(int)\n",
    "\n",
    "# Create a DataFrame containing true and predicted labels\n",
    "confusion_data = pd.DataFrame({'Actual': train['TenYearCHD'], 'Predicted': predicted_labels})\n",
    "\n",
    "# Calculate confusion matrix using crosstab\n",
    "conf_matrix = pd.crosstab(confusion_data['Actual'], confusion_data['Predicted'], rownames=['Actual'], colnames=['Predicted'])\n",
    "\n",
    "print(\"Confusion Matrix:\")\n",
    "print(conf_matrix)"
   ]
  },
  {
   "cell_type": "code",
   "execution_count": 120,
   "id": "a604670c",
   "metadata": {},
   "outputs": [
    {
     "name": "stdout",
     "output_type": "stream",
     "text": [
      "Confusion Matrix with threshold of 0.1\n",
      "Predicted    0    1\n",
      "Actual             \n",
      "0          442  476\n",
      "1           33  147\n"
     ]
    }
   ],
   "source": [
    "# Confusion matrix on Test Data at various thresholds\n",
    "\n",
    "threshold = 0.1  # Example threshold to be adjusted as needed\n",
    "predicted_labels = (predictTest1 > threshold).astype(int)\n",
    "\n",
    "# Create a DataFrame containing true and predicted labels\n",
    "confusion_data = pd.DataFrame({'Actual': test['TenYearCHD'], 'Predicted': predicted_labels})\n",
    "\n",
    "# Calculate confusion matrix using crosstab\n",
    "conf_matrix = pd.crosstab(confusion_data['Actual'], confusion_data['Predicted'], rownames=['Actual'], colnames=['Predicted'])\n",
    "\n",
    "print(\"Confusion Matrix with threshold of\", threshold)\n",
    "print(conf_matrix)"
   ]
  },
  {
   "cell_type": "markdown",
   "id": "fede107c",
   "metadata": {},
   "source": [
    "# Build another model assuming Education to be a nominal variable"
   ]
  },
  {
   "cell_type": "code",
   "execution_count": 102,
   "id": "aa167610",
   "metadata": {},
   "outputs": [
    {
     "name": "stdout",
     "output_type": "stream",
     "text": [
      "<class 'pandas.core.frame.DataFrame'>\n",
      "Index: 3658 entries, 0 to 4239\n",
      "Data columns (total 16 columns):\n",
      " #   Column           Non-Null Count  Dtype  \n",
      "---  ------           --------------  -----  \n",
      " 0   male             3658 non-null   int64  \n",
      " 1   age              3658 non-null   int64  \n",
      " 2   education        3658 non-null   float64\n",
      " 3   currentSmoker    3658 non-null   int64  \n",
      " 4   cigsPerDay       3658 non-null   float64\n",
      " 5   BPMeds           3658 non-null   float64\n",
      " 6   prevalentStroke  3658 non-null   int64  \n",
      " 7   prevalentHyp     3658 non-null   int64  \n",
      " 8   diabetes         3658 non-null   int64  \n",
      " 9   totChol          3658 non-null   float64\n",
      " 10  sysBP            3658 non-null   float64\n",
      " 11  diaBP            3658 non-null   float64\n",
      " 12  BMI              3658 non-null   float64\n",
      " 13  heartRate        3658 non-null   float64\n",
      " 14  glucose          3658 non-null   float64\n",
      " 15  TenYearCHD       3658 non-null   int64  \n",
      "dtypes: float64(9), int64(7)\n",
      "memory usage: 485.8 KB\n",
      "None\n"
     ]
    }
   ],
   "source": [
    "# Read the Framingham dataset\n",
    "framinghamEd = pd.read_csv(r\"D:\\Academics\\BTech\\DSC4.51015_StatisticalModeling-1\\Session 06\\framingham.csv\")\n",
    "# Remove rows with missing values from the DataFrame\n",
    "framinghamEd = framinghamEd.dropna()\n",
    "print(framinghamEd.info())"
   ]
  },
  {
   "cell_type": "code",
   "execution_count": 103,
   "id": "427b5032",
   "metadata": {},
   "outputs": [
    {
     "name": "stdout",
     "output_type": "stream",
     "text": [
      "<class 'pandas.core.frame.DataFrame'>\n",
      "Index: 3658 entries, 0 to 4239\n",
      "Data columns (total 18 columns):\n",
      " #   Column           Non-Null Count  Dtype  \n",
      "---  ------           --------------  -----  \n",
      " 0   male             3658 non-null   int64  \n",
      " 1   age              3658 non-null   int64  \n",
      " 2   currentSmoker    3658 non-null   int64  \n",
      " 3   cigsPerDay       3658 non-null   float64\n",
      " 4   BPMeds           3658 non-null   float64\n",
      " 5   prevalentStroke  3658 non-null   int64  \n",
      " 6   prevalentHyp     3658 non-null   int64  \n",
      " 7   diabetes         3658 non-null   int64  \n",
      " 8   totChol          3658 non-null   float64\n",
      " 9   sysBP            3658 non-null   float64\n",
      " 10  diaBP            3658 non-null   float64\n",
      " 11  BMI              3658 non-null   float64\n",
      " 12  heartRate        3658 non-null   float64\n",
      " 13  glucose          3658 non-null   float64\n",
      " 14  TenYearCHD       3658 non-null   int64  \n",
      " 15  education_2.0    3658 non-null   bool   \n",
      " 16  education_3.0    3658 non-null   bool   \n",
      " 17  education_4.0    3658 non-null   bool   \n",
      "dtypes: bool(3), float64(8), int64(7)\n",
      "memory usage: 468.0 KB\n",
      "None\n"
     ]
    }
   ],
   "source": [
    "# Convert 'education' to categorical\n",
    "framinghamEd['education'] = framinghamEd['education'].astype('category')\n",
    "# Create dummy variables for 'education'\n",
    "education_dummies = pd.get_dummies(framinghamEd['education'], prefix='education', drop_first=True)\n",
    "# Concatenate dummy variables with the original DataFrame\n",
    "framinghamEd = pd.concat([framinghamEd, education_dummies], axis=1)\n",
    "# Remove the original 'education' column if needed\n",
    "framinghamEd = framinghamEd.drop(columns=['education'])\n",
    "print(framinghamEd.info())"
   ]
  },
  {
   "cell_type": "code",
   "execution_count": 104,
   "id": "435884c1",
   "metadata": {},
   "outputs": [
    {
     "name": "stdout",
     "output_type": "stream",
     "text": [
      "   male  age  currentSmoker  cigsPerDay  BPMeds  prevalentStroke  \\\n",
      "0     1   39              0         0.0     0.0                0   \n",
      "1     0   46              0         0.0     0.0                0   \n",
      "2     1   48              1        20.0     0.0                0   \n",
      "3     0   61              1        30.0     0.0                0   \n",
      "4     0   46              1        23.0     0.0                0   \n",
      "\n",
      "   prevalentHyp  diabetes  totChol  sysBP  diaBP    BMI  heartRate  glucose  \\\n",
      "0             0         0    195.0  106.0   70.0  26.97       80.0     77.0   \n",
      "1             0         0    250.0  121.0   81.0  28.73       95.0     76.0   \n",
      "2             0         0    245.0  127.5   80.0  25.34       75.0     70.0   \n",
      "3             1         0    225.0  150.0   95.0  28.58       65.0    103.0   \n",
      "4             0         0    285.0  130.0   84.0  23.10       85.0     85.0   \n",
      "\n",
      "   TenYearCHD  education_2.0  education_3.0  education_4.0  \n",
      "0           0          False          False           True  \n",
      "1           0           True          False          False  \n",
      "2           0          False          False          False  \n",
      "3           1          False           True          False  \n",
      "4           0          False           True          False  \n"
     ]
    }
   ],
   "source": [
    "print(framinghamEd.head())"
   ]
  },
  {
   "cell_type": "code",
   "execution_count": 105,
   "id": "d206426c",
   "metadata": {},
   "outputs": [],
   "source": [
    "# Convert boolean columns to integer (0 or 1)\n",
    "framinghamEd['education_2.0'] = framinghamEd['education_2.0'].astype(int)\n",
    "framinghamEd['education_3.0'] = framinghamEd['education_3.0'].astype(int)\n",
    "framinghamEd['education_4.0'] = framinghamEd['education_4.0'].astype(int)"
   ]
  },
  {
   "cell_type": "code",
   "execution_count": 106,
   "id": "55cb78f3",
   "metadata": {},
   "outputs": [
    {
     "name": "stdout",
     "output_type": "stream",
     "text": [
      "male               0\n",
      "age                0\n",
      "currentSmoker      0\n",
      "cigsPerDay         0\n",
      "BPMeds             0\n",
      "prevalentStroke    0\n",
      "prevalentHyp       0\n",
      "diabetes           0\n",
      "totChol            0\n",
      "sysBP              0\n",
      "diaBP              0\n",
      "BMI                0\n",
      "heartRate          0\n",
      "glucose            0\n",
      "TenYearCHD         0\n",
      "education_2.0      0\n",
      "education_3.0      0\n",
      "education_4.0      0\n",
      "dtype: int64\n",
      "male                 int64\n",
      "age                  int64\n",
      "currentSmoker        int64\n",
      "cigsPerDay         float64\n",
      "BPMeds             float64\n",
      "prevalentStroke      int64\n",
      "prevalentHyp         int64\n",
      "diabetes             int64\n",
      "totChol            float64\n",
      "sysBP              float64\n",
      "diaBP              float64\n",
      "BMI                float64\n",
      "heartRate          float64\n",
      "glucose            float64\n",
      "TenYearCHD           int64\n",
      "education_2.0        int32\n",
      "education_3.0        int32\n",
      "education_4.0        int32\n",
      "dtype: object\n"
     ]
    }
   ],
   "source": [
    "# Check for missing values\n",
    "print(framinghamEd.isnull().sum())\n",
    "\n",
    "# Verify data types\n",
    "print(framinghamEd.dtypes)"
   ]
  },
  {
   "cell_type": "code",
   "execution_count": 107,
   "id": "7d7f0db6",
   "metadata": {},
   "outputs": [],
   "source": [
    "# Randomly split the data into training and testing sets\n",
    "trainEd, testEd = train_test_split(framinghamEd, test_size=0.3, random_state=123)"
   ]
  },
  {
   "cell_type": "code",
   "execution_count": 108,
   "id": "6cf18287",
   "metadata": {},
   "outputs": [
    {
     "name": "stdout",
     "output_type": "stream",
     "text": [
      "Proportion of TenYearCHD in the training dataset: 0.147265625\n",
      "Proportion of TenYearCHD in the testing dataset: 0.16393442622950818\n"
     ]
    }
   ],
   "source": [
    "# Calculate the proportion of TenYearCHD in the training dataset\n",
    "trainEd_proportion = trainEd['TenYearCHD'].sum() / len(trainEd)\n",
    "\n",
    "# Calculate the proportion of TenYearCHD in the testing dataset\n",
    "testEd_proportion = testEd['TenYearCHD'].sum() / len(testEd)\n",
    "\n",
    "print(\"Proportion of TenYearCHD in the training dataset:\", trainEd_proportion)\n",
    "print(\"Proportion of TenYearCHD in the testing dataset:\", testEd_proportion)"
   ]
  },
  {
   "cell_type": "code",
   "execution_count": 109,
   "id": "3150e260",
   "metadata": {},
   "outputs": [
    {
     "name": "stdout",
     "output_type": "stream",
     "text": [
      "                Results: Generalized linear model\n",
      "=================================================================\n",
      "Model:               GLM              AIC:            1921.9700  \n",
      "Link Function:       Logit            BIC:            -18063.0423\n",
      "Dependent Variable:  TenYearCHD       Log-Likelihood: -942.99    \n",
      "Date:                2024-03-27 14:25 LL-Null:        -1069.9    \n",
      "No. Observations:    2560             Deviance:       1886.0     \n",
      "Df Model:            17               Pearson chi2:   2.46e+03   \n",
      "Df Residuals:        2542             Scale:          1.0000     \n",
      "Method:              IRLS                                        \n",
      "-----------------------------------------------------------------\n",
      "                 Coef.  Std.Err.    z     P>|z|   [0.025   0.975]\n",
      "-----------------------------------------------------------------\n",
      "const           -8.8713   0.8597 -10.3187 0.0000 -10.5563 -7.1863\n",
      "male             0.5142   0.1336   3.8500 0.0001   0.2525  0.7760\n",
      "age              0.0636   0.0081   7.8096 0.0000   0.0476  0.0795\n",
      "currentSmoker    0.1502   0.1905   0.7883 0.4305  -0.2232  0.5236\n",
      "cigsPerDay       0.0211   0.0077   2.7413 0.0061   0.0060  0.0363\n",
      "BPMeds           0.2804   0.2878   0.9745 0.3298  -0.2836  0.8445\n",
      "prevalentStroke  0.8437   0.5470   1.5426 0.1229  -0.2283  1.9158\n",
      "prevalentHyp    -0.0436   0.1696  -0.2572 0.7970  -0.3759  0.2887\n",
      "diabetes        -0.0099   0.3994  -0.0248 0.9802  -0.7926  0.7728\n",
      "totChol          0.0034   0.0014   2.4235 0.0154   0.0006  0.0061\n",
      "sysBP            0.0176   0.0047   3.7681 0.0002   0.0084  0.0267\n",
      "diaBP           -0.0040   0.0078  -0.5079 0.6115  -0.0193  0.0114\n",
      "BMI              0.0125   0.0155   0.8022 0.4224  -0.0180  0.0429\n",
      "heartRate       -0.0039   0.0051  -0.7632 0.4454  -0.0140  0.0061\n",
      "glucose          0.0060   0.0026   2.2934 0.0218   0.0009  0.0112\n",
      "education_2.0   -0.2388   0.1509  -1.5821 0.1136  -0.5347  0.0570\n",
      "education_3.0   -0.1630   0.1749  -0.9319 0.3514  -0.5058  0.1798\n",
      "education_4.0   -0.1759   0.2081  -0.8456 0.3978  -0.5837  0.2319\n",
      "=================================================================\n",
      "\n"
     ]
    }
   ],
   "source": [
    "# Logistic Regression Model\n",
    "framingham2 = sm.GLM(trainEd['TenYearCHD'], sm.add_constant(trainEd.drop(columns=['TenYearCHD'])), \n",
    "                     family=sm.families.Binomial()).fit()\n",
    "print(framingham2.summary2())"
   ]
  },
  {
   "cell_type": "code",
   "execution_count": 110,
   "id": "9ef89c42",
   "metadata": {},
   "outputs": [
    {
     "name": "stdout",
     "output_type": "stream",
     "text": [
      "VIF:\n",
      "     Variable       VIF\n",
      "0         age  1.315494\n",
      "1  cigsPerDay  1.048542\n",
      "2     totChol  1.106154\n",
      "3       sysBP  3.109630\n",
      "4       diaBP  2.860657\n",
      "5         BMI  1.190182\n",
      "6   heartRate  1.062395\n",
      "7     glucose  1.038703\n"
     ]
    }
   ],
   "source": [
    "# Check for multicollinearity\n",
    "\n",
    "X = framinghamEd.drop(columns=['TenYearCHD']+['male']+['currentSmoker']+['BPMeds']+['prevalentStroke']+['prevalentHyp']\n",
    "                      +['diabetes']+['education_2.0']+['education_3.0']+['education_4.0'], axis=1)\n",
    "# Add a constant term for the intercept\n",
    "X_with_constant = sm.add_constant(X)\n",
    "# Calculate VIF (excluding the constant term)\n",
    "vif_data = pd.DataFrame()\n",
    "vif_data[\"Variable\"] = X.columns\n",
    "vif_data[\"VIF\"] = [variance_inflation_factor(X_with_constant.values, i) for i in range(1, X_with_constant.shape[1])]\n",
    "\n",
    "print(\"VIF:\")\n",
    "print(vif_data)"
   ]
  },
  {
   "cell_type": "code",
   "execution_count": 111,
   "id": "16b52d65",
   "metadata": {},
   "outputs": [
    {
     "name": "stdout",
     "output_type": "stream",
     "text": [
      "Confusion Matrix_Train:\n",
      "[[2168   15]\n",
      " [ 346   31]]\n",
      "Accuracy_Train: 0.858984375\n",
      "Confusion Matrix_Test:\n",
      "[[913   5]\n",
      " [166  14]]\n",
      "Accuracy_Test: 0.8442622950819673\n"
     ]
    }
   ],
   "source": [
    "# Accuracy on the training set\n",
    "predictTrain2 = framingham2.predict(sm.add_constant(trainEd.drop(columns=['TenYearCHD'])))\n",
    "print(\"Confusion Matrix_Train:\")\n",
    "print(confusion_matrix(trainEd['TenYearCHD'], predictTrain2 > 0.5))\n",
    "print(\"Accuracy_Train:\", accuracy_score(trainEd['TenYearCHD'], predictTrain2 > 0.5))\n",
    "\n",
    "# Accuracy on Test Set\n",
    "predictTest2 = framingham2.predict(sm.add_constant(testEd.drop(columns=['TenYearCHD'])))\n",
    "print(\"Confusion Matrix_Test:\")\n",
    "print(confusion_matrix(testEd['TenYearCHD'], predictTest2 > 0.5))\n",
    "print(\"Accuracy_Test:\", accuracy_score(testEd['TenYearCHD'], predictTest2 > 0.5))"
   ]
  },
  {
   "cell_type": "code",
   "execution_count": 113,
   "id": "99e3cb41",
   "metadata": {},
   "outputs": [
    {
     "name": "stdout",
     "output_type": "stream",
     "text": [
      "0.7260288065843621\n",
      "0.7250847252481238\n"
     ]
    }
   ],
   "source": [
    "# Test set AUC using FULL MODEL (MODEL 1)\n",
    "print(roc_auc_score(test['TenYearCHD'], predictTest1))\n",
    "\n",
    "# Test set AUC using REDUCED MODEL (MODEL 2)\n",
    "print(roc_auc_score(test['TenYearCHD'], predictTest2))"
   ]
  },
  {
   "cell_type": "code",
   "execution_count": 122,
   "id": "ef6f1c2b",
   "metadata": {},
   "outputs": [],
   "source": [
    "from sklearn.metrics import roc_curve, roc_auc_score\n",
    "import matplotlib.pyplot as plt"
   ]
  },
  {
   "cell_type": "code",
   "execution_count": 123,
   "id": "7acf54b7",
   "metadata": {},
   "outputs": [
    {
     "name": "stdout",
     "output_type": "stream",
     "text": [
      "0.7260288065843621\n"
     ]
    },
    {
     "data": {
      "image/png": "[encoded data removed]",
      "text/plain": [
       "<Figure size 640x480 with 1 Axes>"
      ]
     },
     "metadata": {},
     "output_type": "display_data"
    },
    {
     "name": "stdout",
     "output_type": "stream",
     "text": [
      "0.7250847252481238\n"
     ]
    },
    {
     "data": {
      "image/png": "[encoded data removed]",
      "text/plain": [
       "<Figure size 640x480 with 1 Axes>"
      ]
     },
     "metadata": {},
     "output_type": "display_data"
    },
    {
     "data": {
      "image/png": "[encoded data removed]",
      "text/plain": [
       "<Figure size 640x480 with 1 Axes>"
      ]
     },
     "metadata": {},
     "output_type": "display_data"
    }
   ],
   "source": [
    "# Test set AUC using MODEL 1\n",
    "auc1 = roc_auc_score(test['TenYearCHD'], predictTest1)\n",
    "print(auc1)\n",
    "\n",
    "fpr1, tpr1, thresholds1 = roc_curve(test['TenYearCHD'], predictTest1)\n",
    "\n",
    "plt.plot(fpr1, tpr1, color='blue', lw=2, label='Model1 ROC curve (AUC = %0.2f)' % auc1)\n",
    "plt.plot([0, 1], [0, 1], color='gray', linestyle='--')\n",
    "plt.xlim([0.0, 1.0])\n",
    "plt.ylim([0.0, 1.05])\n",
    "plt.xlabel('False Positive Rate')\n",
    "plt.ylabel('True Positive Rate')\n",
    "plt.title('Receiver Operating Characteristic (Model1)')\n",
    "plt.legend(loc=\"lower right\")\n",
    "plt.show()\n",
    "\n",
    "# Test set AUC using MODEL 2\n",
    "auc2 = roc_auc_score(testEd['TenYearCHD'], predictTest2)\n",
    "print(auc2)\n",
    "\n",
    "fpr2, tpr2, thresholds2 = roc_curve(testEd['TenYearCHD'], predictTest2)\n",
    "\n",
    "plt.plot(fpr2, tpr2, color='green', lw=2, label='Model2 ROC curve (AUC = %0.2f)' % auc2)\n",
    "plt.plot([0, 1], [0, 1], color='gray', linestyle='--')\n",
    "plt.xlim([0.0, 1.0])\n",
    "plt.ylim([0.0, 1.05])\n",
    "plt.xlabel('False Positive Rate')\n",
    "plt.ylabel('True Positive Rate')\n",
    "plt.title('Receiver Operating Characteristic (Model2)')\n",
    "plt.legend(loc=\"lower right\")\n",
    "plt.show()\n",
    "\n",
    "# Overlay ROC curves\n",
    "plt.plot(fpr1, tpr1, color='blue', lw=2, label='Model1 ROC curve (AUC = %0.2f)' % auc1)\n",
    "plt.plot(fpr2, tpr2, color='green', lw=2, label='Model2 ROC curve (AUC = %0.2f)' % auc2)\n",
    "plt.plot([0, 1], [0, 1], color='gray', linestyle='--')\n",
    "plt.xlim([0.0, 1.0])\n",
    "plt.ylim([0.0, 1.05])\n",
    "plt.xlabel('False Positive Rate')\n",
    "plt.ylabel('True Positive Rate')\n",
    "plt.title('Receiver Operating Characteristic')\n",
    "plt.legend(loc=\"lower right\")\n",
    "plt.show()"
   ]
  },
  {
   "cell_type": "code",
   "execution_count": 124,
   "id": "f9c82ec7",
   "metadata": {},
   "outputs": [
    {
     "name": "stdout",
     "output_type": "stream",
     "text": [
      "      Predicted Probability  Actual Response\n",
      "3844               0.922906                1\n",
      "2007               0.672367                1\n",
      "2718               0.637595                1\n",
      "1588               0.613555                1\n",
      "2930               0.609554                1\n",
      "590                0.576604                0\n",
      "604                0.575652                1\n",
      "249                0.557458                0\n",
      "1230               0.557357                1\n",
      "1054               0.549943                0\n",
      "1079               0.546651                1\n",
      "2162               0.539469                0\n",
      "3136               0.531380                1\n",
      "2187               0.530724                1\n",
      "4075               0.530574                1\n",
      "1878               0.515399                1\n",
      "2600               0.512034                1\n",
      "926                0.506415                0\n",
      "2298               0.505908                1\n",
      "2446               0.488357                0\n",
      "4040               0.482958                0\n",
      "522                0.472157                1\n",
      "1485               0.471319                1\n",
      "153                0.470231                1\n",
      "1399               0.466439                0\n"
     ]
    }
   ],
   "source": [
    "# Combine predicted probabilities and actual response\n",
    "probs_and_actual = pd.DataFrame({'Predicted Probability': predictTest1, 'Actual Response': test['TenYearCHD']})\n",
    "\n",
    "# Sort by predicted probability in descending order\n",
    "probs_and_actual_sorted = probs_and_actual.sort_values(by='Predicted Probability', ascending=False)\n",
    "\n",
    "# Print the first 25 records\n",
    "print(probs_and_actual_sorted.head(25))"
   ]
  },
  {
   "cell_type": "code",
   "execution_count": null,
   "id": "b129810b",
   "metadata": {},
   "outputs": [],
   "source": []
  }
 ],
 "metadata": {
  "kernelspec": {
   "display_name": "Python 3 (ipykernel)",
   "language": "python",
   "name": "python3"
  },
  "language_info": {
   "codemirror_mode": {
    "name": "ipython",
    "version": 3
   },
   "file_extension": ".py",
   "mimetype": "text/x-python",
   "name": "python",
   "nbconvert_exporter": "python",
   "pygments_lexer": "ipython3",
   "version": "3.11.5"
  }
 },
 "nbformat": 4,
 "nbformat_minor": 5
}
